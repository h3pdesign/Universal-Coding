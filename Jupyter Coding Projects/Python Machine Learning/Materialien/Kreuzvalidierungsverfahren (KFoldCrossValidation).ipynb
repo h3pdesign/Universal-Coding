{
 "cells": [
  {
   "cell_type": "markdown",
   "metadata": {},
   "source": [
    "# Kreuzvalidierungsverfahren (K-Fold Cross Validation)"
   ]
  },
  {
   "cell_type": "markdown",
   "metadata": {},
   "source": [
    "Betrachten wir erneut die Iris - Daten (Schwertlilien):"
   ]
  },
  {
   "cell_type": "code",
   "execution_count": 1,
   "metadata": {
    "collapsed": false
   },
   "outputs": [],
   "source": [
    "import numpy as np\n",
    "from sklearn import cross_validation\n",
    "from sklearn import datasets\n",
    "from sklearn import svm\n",
    "\n",
    "iris = datasets.load_iris()\n"
   ]
  },
  {
   "cell_type": "markdown",
   "metadata": {},
   "source": [
    "Mit der train_test_split - Funktion lassen sich die Daten in train/test - Daten aufteilen."
   ]
  },
  {
   "cell_type": "code",
   "execution_count": 3,
   "metadata": {
    "collapsed": false
   },
   "outputs": [
    {
     "data": {
      "text/plain": [
       "0.96666666666666667"
      ]
     },
     "execution_count": 3,
     "metadata": {},
     "output_type": "execute_result"
    }
   ],
   "source": [
    "# Aufteilen der Iris-Daten in ein train/test - Set, 40% der Daten werden zum Testen verwendet\n",
    "X_train, X_test, y_train, y_test = cross_validation.train_test_split(iris.data, iris.target, test_size=0.4, random_state=0)\n",
    "\n",
    "# Mit Hilfe des SVC (Support Vector Clustering) wird ein Modell erstellt. Hierfür wird\n",
    "# der lineare Kernel verwendet\n",
    "clf = svm.SVC(kernel='linear', C=1).fit(X_train, y_train)\n",
    "\n",
    "# Wie genau ist der Algorithmus?\n",
    "clf.score(X_test, y_test)   "
   ]
  },
  {
   "cell_type": "markdown",
   "metadata": {},
   "source": [
    "Um das Kreuzvalidierungsverfahren zu benutzen, kann die Methode cross_val_score benutzt werden. "
   ]
  },
  {
   "cell_type": "code",
   "execution_count": 5,
   "metadata": {
    "collapsed": false
   },
   "outputs": [
    {
     "name": "stdout",
     "output_type": "stream",
     "text": [
      "[ 0.96666667  1.          0.96666667  0.96666667  1.        ]\n",
      "0.98\n"
     ]
    }
   ],
   "source": [
    "# cross_val_score wird hierfür das Modell übergeben, die gesamten Daten,\n",
    "# und die \"korrekten\" Werte. Zudem muss die Anzahl für K übergeben werden.\n",
    "scores = cross_validation.cross_val_score(clf, iris.data, iris.target, cv=5)\n",
    "\n",
    "# Wie genau war jedes dieser Modelle?\n",
    "print(scores)\n",
    "\n",
    "# Und wie genau wird das resultierende Modell sein?\n",
    "print(scores.mean())"
   ]
  },
  {
   "cell_type": "markdown",
   "metadata": {},
   "source": [
    "Dieses Modell ist nochmal etwas besser! Kann man es noch weiter verbessern? Probieren wir mal einen anderen Kernel aus (poly): "
   ]
  },
  {
   "cell_type": "code",
   "execution_count": 4,
   "metadata": {
    "collapsed": false
   },
   "outputs": [
    {
     "name": "stdout",
     "output_type": "stream",
     "text": [
      "[ 1.          1.          0.9         0.93333333  1.        ]\n",
      "0.966666666667\n"
     ]
    }
   ],
   "source": [
    "clf = svm.SVC(kernel='poly', C=1).fit(X_train, y_train)\n",
    "scores = cross_validation.cross_val_score(clf, iris.data, iris.target, cv=5)\n",
    "print scores\n",
    "print scores.mean()"
   ]
  },
  {
   "cell_type": "markdown",
   "metadata": {},
   "source": [
    "Leider nicht! Der polynomiale Kernel führt zu einer geringeren Genauigkeit im Vergleich zum linearen Kernel. Dieser Kernel passt sich also zu stark an die Daten an. Ein einfaches train/test hätte das aber nicht herausgefunden: "
   ]
  },
  {
   "cell_type": "code",
   "execution_count": 7,
   "metadata": {
    "collapsed": false
   },
   "outputs": [
    {
     "data": {
      "text/plain": [
       "0.96666666666666667"
      ]
     },
     "execution_count": 7,
     "metadata": {},
     "output_type": "execute_result"
    }
   ],
   "source": [
    "# Erstelle ein SVC - Modell (Support Vector Clustring), welches den Aufbau\n",
    "# der Blütenblätter vorhersagt\n",
    "clf = svm.SVC(kernel='poly', C=1).fit(X_train, y_train)\n",
    "\n",
    "# Messen der Genauigkeit auf Basis unserer Testdaten\n",
    "clf.score(X_test, y_test)   "
   ]
  },
  {
   "cell_type": "markdown",
   "metadata": {},
   "source": [
    "Gleicher score wie beim train/test mit dem linearen Kernel!"
   ]
  },
  {
   "cell_type": "markdown",
   "metadata": {},
   "source": [
    "## Aufgabe"
   ]
  },
  {
   "cell_type": "markdown",
   "metadata": {},
   "source": [
    "Der \"poly\" - Kernel erlaubt noch einen weiteren, sehr wichtigen Parameter:\n",
    " - Welchen Grad hat das Polynom, was für diesen Kernel verwendet wird? Standardmäßig wird hier die 3 verwendet. \n",
    " \n",
    "Beispiel: `svm.SVC(kernel='poly', degree=3, C=1)` \n",
    "\n",
    "Passt ein Kernel bei dem nur ein Polynom 2. Grades verwendet wird, sich auch zu stark an die Daten an? Probier es aus und vergleiche das Ergebnis mit dem Ergebnis des linearen Kernels."
   ]
  }
 ],
 "metadata": {
  "kernelspec": {
   "display_name": "Python 3",
   "language": "python",
   "name": "python3"
  },
  "language_info": {
   "codemirror_mode": {
    "name": "ipython",
    "version": 3
   },
   "file_extension": ".py",
   "mimetype": "text/x-python",
   "name": "python",
   "nbconvert_exporter": "python",
   "pygments_lexer": "ipython3",
   "version": "3.5.1"
  }
 },
 "nbformat": 4,
 "nbformat_minor": 0
}
