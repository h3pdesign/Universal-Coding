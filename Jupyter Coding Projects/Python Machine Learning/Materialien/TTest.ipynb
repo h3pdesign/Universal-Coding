{
 "cells": [
  {
   "cell_type": "markdown",
   "metadata": {},
   "source": [
    "# T-Test, P-Werte..."
   ]
  },
  {
   "cell_type": "markdown",
   "metadata": {},
   "source": [
    "Angenommen, man führt einen A/B - Test durch. Zuerst erstellen wir ein paar Zufallsdaten mit Umsätzen von Kunden in 2 Gruppen, A und B. B hat hierbei einen etwas höheren Umsatz:"
   ]
  },
  {
   "cell_type": "code",
   "execution_count": 60,
   "metadata": {
    "collapsed": false
   },
   "outputs": [
    {
     "data": {
      "text/plain": [
       "Ttest_indResult(statistic=-14.649686713740667, pvalue=2.4100305508792518e-48)"
      ]
     },
     "execution_count": 60,
     "metadata": {},
     "output_type": "execute_result"
    }
   ],
   "source": [
    "import numpy as np\n",
    "from scipy import stats\n",
    "\n",
    "A = np.random.normal(25.0, 5.0, 10000)\n",
    "B = np.random.normal(26.0, 5.0, 10000)\n",
    "\n",
    "stats.ttest_ind(A, B)"
   ]
  },
  {
   "cell_type": "markdown",
   "metadata": {},
   "source": [
    "Der T-Wert (*statistic*) ist die Maszahl zwischen den 2 Gruppen, ausgedrückt in Einheiten vom Standardfehler. Das bedeutet, dass dieser Test die Größe des Unterschiedes der 2 Gruppen, relativ zur Varianz in den Daten ausgibt.\n",
    "\n",
    "Ein Hoher Wert für t bedeutet also, dass es einen echten Unterschied zwischen den 2 Datensätzen gibt, der Unterschied ist dann \"signifikant\".\n",
    "\n",
    "Der P-Wert gibt an, mit welcher Wahrscheinlichkeit beide Gruppen identisch sind. Es könnte ja auch sein, dass wir aus einer der Gruppen nur etwas \"extremere\" Randwerte gemessen haben, die Gruppen aber grundsätzlich immernoch identisch sind. Ein niedriger Wert für P bedeutet also, dass das Ergebnis statistisch signifikant ist. \n",
    "\n",
    "Gesucht:\n",
    " - Niedriger Wert für P\n",
    " - Hoher Wert für T\n",
    "\n",
    "Normalerweise ist der P-Wert wichtiger als der T-Wert, weil er einfacher vorzustellen ist. \n",
    "\n",
    "Passen wir nun mal die Gruppe A und B so an, dass sie beide die gleiche Verteilung haben. Es gibt also keinen \"echten\" Unterschied zwischen den Gruppen:"
   ]
  },
  {
   "cell_type": "code",
   "execution_count": 61,
   "metadata": {
    "collapsed": false
   },
   "outputs": [
    {
     "data": {
      "text/plain": [
       "Ttest_indResult(statistic=-2.569744102980652, pvalue=0.010184542726604616)"
      ]
     },
     "execution_count": 61,
     "metadata": {},
     "output_type": "execute_result"
    }
   ],
   "source": [
    "B = np.random.normal(25.0, 5.0, 10000)\n",
    "\n",
    "stats.ttest_ind(A, B)"
   ]
  },
  {
   "cell_type": "markdown",
   "metadata": {},
   "source": [
    "Jetzt ist der T-Wert (*statistic*) sehr viel geringer, und der P-Wert recht hoch. Diese Ergebnisse unterstützen die Nullhypothese: Dass es keinen Unterschied zwischen den 2 Gruppen gibt. \n",
    "\n",
    "Aber macht die Größe unserer Stichprobe einen Unterschied? Führen wir das Gleiche nochmal aus, also generieren 2 Gruppen die die gleiche Verteilung haben, aber mit 10X so vielen Messungen:"
   ]
  },
  {
   "cell_type": "code",
   "execution_count": 62,
   "metadata": {
    "collapsed": false
   },
   "outputs": [
    {
     "data": {
      "text/plain": [
       "Ttest_indResult(statistic=-1.4126553925716381, pvalue=0.15775862954503578)"
      ]
     },
     "execution_count": 62,
     "metadata": {},
     "output_type": "execute_result"
    }
   ],
   "source": [
    "A = np.random.normal(25.0, 5.0, 100000)\n",
    "B = np.random.normal(25.0, 5.0, 100000)\n",
    "\n",
    "stats.ttest_ind(A, B)"
   ]
  },
  {
   "cell_type": "markdown",
   "metadata": {},
   "source": [
    "Der P-Wert wird jetzt etwas geringer, der T-Wert etwas größer, aber nur unmerklich, man kann kaum einen Unterschied erkennen (insbesondere kann es passieren, dass der Wert aufgrund von Zufall doch größer geworden ist...)\n",
    "\n",
    "Auch eine 1 Millionen Messungen reichen nicht aus, einen P-Wert von 1 und einen T-Wert von 0 zu bekommen:"
   ]
  },
  {
   "cell_type": "code",
   "execution_count": 70,
   "metadata": {
    "collapsed": false
   },
   "outputs": [
    {
     "data": {
      "text/plain": [
       "Ttest_indResult(statistic=1.0213603863799208, pvalue=0.3070838497486108)"
      ]
     },
     "execution_count": 70,
     "metadata": {},
     "output_type": "execute_result"
    }
   ],
   "source": [
    "A = np.random.normal(25.0, 5.0, 1000000)\n",
    "B = np.random.normal(25.0, 5.0, 1000000)\n",
    "\n",
    "stats.ttest_ind(A, B)"
   ]
  },
  {
   "cell_type": "markdown",
   "metadata": {},
   "source": [
    "Nur wenn man die Gruppe mit sich selbst vergleicht, bekommt man - analog der Definition - einen T-Wert von 0 und einen P-Wert von 1:"
   ]
  },
  {
   "cell_type": "code",
   "execution_count": 71,
   "metadata": {
    "collapsed": false
   },
   "outputs": [
    {
     "data": {
      "text/plain": [
       "Ttest_indResult(statistic=0.0, pvalue=1.0)"
      ]
     },
     "execution_count": 71,
     "metadata": {},
     "output_type": "execute_result"
    }
   ],
   "source": [
    "stats.ttest_ind(A, A)"
   ]
  },
  {
   "cell_type": "markdown",
   "metadata": {},
   "source": [
    "Man muss entscheiden, mit welcher Signifikanz, also was für einem Wert von P man sich zufrieden geben möchte. Man kann nie mit 100%-iger Wahrscheinlichkeit sagen, dass die Ergebnisse eines Experimentes \"signifikant\" sind. Aber immerhin, mit Hilfe des T-Tests bzw. dem P-Wert kann man eine Maßzahl für die Signifikanz bestimmen, und so ggf. feststellen, ob es Sinn macht, ein Experiment länger laufen zu lassen oder nicht. "
   ]
  },
  {
   "cell_type": "markdown",
   "metadata": {},
   "source": [
    "## Aufgabe"
   ]
  },
  {
   "cell_type": "markdown",
   "metadata": {},
   "source": [
    "Probier auch noch andere Verteilungen für A und B aus. Was für einen Einfluss hat dies auf die T-statistics bzw. den P-Wert?"
   ]
  },
  {
   "cell_type": "code",
   "execution_count": null,
   "metadata": {
    "collapsed": false
   },
   "outputs": [],
   "source": []
  }
 ],
 "metadata": {
  "kernelspec": {
   "display_name": "Python 3",
   "language": "python",
   "name": "python3"
  },
  "language_info": {
   "codemirror_mode": {
    "name": "ipython",
    "version": 3
   },
   "file_extension": ".py",
   "mimetype": "text/x-python",
   "name": "python",
   "nbconvert_exporter": "python",
   "pygments_lexer": "ipython3",
   "version": "3.5.1"
  }
 },
 "nbformat": 4,
 "nbformat_minor": 0
}
