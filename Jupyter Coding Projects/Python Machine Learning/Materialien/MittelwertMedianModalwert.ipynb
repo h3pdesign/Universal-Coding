{
 "cells": [
  {
   "cell_type": "markdown",
   "metadata": {},
   "source": [
    "# Mittelwert, Medianwert, Modalwert: Einführung in NumPy"
   ]
  },
  {
   "cell_type": "markdown",
   "metadata": {},
   "source": [
    "## Mittelwert vs. Median"
   ]
  },
  {
   "cell_type": "markdown",
   "metadata": {},
   "source": [
    "Zuerst erstellen wir ein paar Musterdaten zu den Einkommen. Wir verwenden dazu eine Normalverteilung mit einer Standardabweichung von 15.000 sowie 10.000 Datenpunkten. (Wir werden die Fachbegriffe später noch genauer einführen, wenn du dich damit noch nicht auskennst - kein Problem)\n",
    "\n",
    "Anschließend berechne den Durchschnitt (auf Englisch: mean) dieser Daten - er sollte ungefähr bei 27.000 liegen:"
   ]
  },
  {
   "cell_type": "code",
   "execution_count": 29,
   "metadata": {
    "collapsed": false
   },
   "outputs": [
    {
     "data": {
      "text/plain": [
       "27091.91683349073"
      ]
     },
     "execution_count": 29,
     "metadata": {},
     "output_type": "execute_result"
    }
   ],
   "source": [
    "import numpy as np\n",
    "\n",
    "incomes = np.random.normal(27000, 15000, 10000)\n",
    "np.mean(incomes)"
   ]
  },
  {
   "cell_type": "markdown",
   "metadata": {},
   "source": [
    "Wir teilen die Daten dann auf 50 Werte auf, und lassen uns das Histogramm ausgeben:"
   ]
  },
  {
   "cell_type": "code",
   "execution_count": 30,
   "metadata": {
    "collapsed": false
   },
   "outputs": [
    {
     "data": {
      "image/png": "[encoded data removed]",
      "text/plain": [
       "<matplotlib.figure.Figure at 0x110b93e10>"
      ]
     },
     "metadata": {},
     "output_type": "display_data"
    }
   ],
   "source": [
    "%matplotlib inline\n",
    "import matplotlib.pyplot as plt\n",
    "plt.hist(incomes, 50)\n",
    "plt.show()"
   ]
  },
  {
   "cell_type": "markdown",
   "metadata": {},
   "source": [
    "Berechne jetzt den Medianwert (median) dieser Daten - da wir eine gleichmäßige Verteilung haben, sollte auch er bei ungefähr 27.000 liegen:"
   ]
  },
  {
   "cell_type": "code",
   "execution_count": 31,
   "metadata": {
    "collapsed": false
   },
   "outputs": [
    {
     "data": {
      "text/plain": [
       "27181.169562234478"
      ]
     },
     "execution_count": 31,
     "metadata": {},
     "output_type": "execute_result"
    }
   ],
   "source": [
    "np.median(incomes)"
   ]
  },
  {
   "cell_type": "markdown",
   "metadata": {},
   "source": [
    "Jetzt fügen wir Donald Trup zu den Einkommenswerten hinzu, und nehme hier mal ein recht hohes Einkommen an."
   ]
  },
  {
   "cell_type": "code",
   "execution_count": 32,
   "metadata": {
    "collapsed": false
   },
   "outputs": [],
   "source": [
    "incomes = np.append(incomes, [1000000000])"
   ]
  },
  {
   "cell_type": "markdown",
   "metadata": {},
   "source": [
    "Der Median verändert sich nicht wirklich, aber der Durchschnitt!"
   ]
  },
  {
   "cell_type": "code",
   "execution_count": 33,
   "metadata": {
    "collapsed": false
   },
   "outputs": [
    {
     "data": {
      "text/plain": [
       "27184.777481863101"
      ]
     },
     "execution_count": 33,
     "metadata": {},
     "output_type": "execute_result"
    }
   ],
   "source": [
    "np.median(incomes)"
   ]
  },
  {
   "cell_type": "code",
   "execution_count": 34,
   "metadata": {
    "collapsed": false
   },
   "outputs": [
    {
     "data": {
      "text/plain": [
       "127079.20891259944"
      ]
     },
     "execution_count": 34,
     "metadata": {},
     "output_type": "execute_result"
    }
   ],
   "source": [
    "np.mean(incomes)"
   ]
  },
  {
   "cell_type": "markdown",
   "metadata": {},
   "source": [
    "## Modalwert"
   ]
  },
  {
   "cell_type": "markdown",
   "metadata": {},
   "source": [
    "Zuerst generieren wir ein paar zufällige Beispiel - Altersdaten."
   ]
  },
  {
   "cell_type": "code",
   "execution_count": 35,
   "metadata": {
    "collapsed": false
   },
   "outputs": [
    {
     "data": {
      "text/plain": [
       "array([89, 21, 42, 51, 60, 37, 32, 39, 81, 39, 22, 77, 56, 50, 48, 47, 59,\n",
       "       32, 81, 55, 26, 76, 44, 20, 79, 75, 25, 41, 57, 57, 89, 27, 68, 24,\n",
       "       48, 72, 38, 37, 84, 26, 55, 31, 69, 81, 21, 72, 80, 82, 40, 67, 43,\n",
       "       84, 19, 81, 54, 55, 74, 58, 51, 48, 59, 65, 53, 55, 20, 40, 61, 23,\n",
       "       46, 26, 80, 68, 61, 61, 59, 29, 80, 85, 34, 37, 26, 26, 80, 70, 21,\n",
       "       65, 54, 36, 64, 30, 39, 65, 40, 53, 39, 30, 26, 62, 60, 20, 76, 49,\n",
       "       89, 78, 82, 62, 42, 35, 66, 51, 22, 47, 64, 50, 27, 45, 79, 71, 53,\n",
       "       63, 39, 18, 78, 73, 85, 76, 72, 77, 35, 71, 82, 69, 20, 26, 43, 28,\n",
       "       54, 53, 80, 43, 31, 43, 59, 20, 34, 83, 33, 47, 70, 39, 69, 72, 65,\n",
       "       24, 54, 69, 70, 65, 38, 51, 54, 31, 67, 58, 40, 49, 38, 69, 88, 44,\n",
       "       81, 82, 27, 45, 39, 25, 30, 85, 62, 73, 18, 61, 32, 52, 89, 45, 56,\n",
       "       89, 37, 74, 44, 30, 51, 70, 87, 89, 70, 86, 44, 69, 81, 20, 80, 22,\n",
       "       53, 57, 74, 37, 83, 44, 32, 67, 72, 26, 58, 37, 20, 74, 46, 40, 66,\n",
       "       48, 83, 82, 59, 57, 66, 43, 67, 86, 72, 83, 57, 25, 70, 27, 52, 65,\n",
       "       56, 89, 88, 61, 80, 29, 77, 31, 57, 40, 44, 73, 63, 26, 83, 24, 68,\n",
       "       84, 75, 66, 20, 84, 52, 55, 37, 37, 28, 81, 77, 49, 41, 65, 36, 32,\n",
       "       27, 62, 86, 39, 31, 43, 27, 41, 33, 75, 63, 88, 45, 51, 79, 70, 29,\n",
       "       20, 31, 24, 24, 57, 33, 19, 69, 27, 50, 70, 74, 80, 74, 39, 36, 36,\n",
       "       74, 19, 19, 61, 89, 55, 80, 75, 82, 47, 86, 76, 74, 61, 52, 60, 55,\n",
       "       88, 33, 35, 19, 39, 51, 31, 34, 27, 55, 18, 41, 38, 83, 60, 33, 76,\n",
       "       84, 86, 38, 59, 68, 25, 41, 89, 49, 18, 69, 60, 47, 30, 25, 67, 45,\n",
       "       77, 36, 57, 40, 89, 53, 27, 18, 22, 87, 72, 56, 71, 27, 51, 73, 46,\n",
       "       40, 27, 64, 54, 89, 82, 67, 35, 39, 29, 28, 54, 37, 57, 36, 42, 22,\n",
       "       89, 85, 60, 43, 19, 46, 63, 39, 18, 34, 42, 59, 40, 20, 57, 73, 86,\n",
       "       44, 35, 76, 42, 71, 38, 60, 53, 69, 84, 84, 23, 55, 20, 81, 28, 50,\n",
       "       86, 33, 19, 24, 22, 63, 56, 56, 43, 18, 39, 78, 81, 38, 63, 49, 50,\n",
       "       63, 81, 49, 29, 26, 79, 66, 51, 34, 87, 81, 23, 35, 50, 20, 83, 41,\n",
       "       29, 34, 31, 52, 78, 81, 23, 47, 61, 44, 77, 49, 87, 77, 73, 80, 26,\n",
       "       28, 70, 54, 69, 34, 30, 56, 85, 52, 57, 18, 48, 59, 83, 48, 61, 89,\n",
       "       47, 75, 88, 73, 28, 24, 60])"
      ]
     },
     "execution_count": 35,
     "metadata": {},
     "output_type": "execute_result"
    }
   ],
   "source": [
    "ages = np.random.randint(18, high=90, size=500)\n",
    "ages"
   ]
  },
  {
   "cell_type": "markdown",
   "metadata": {},
   "source": [
    "Und berechnen dann den Modalwert:"
   ]
  },
  {
   "cell_type": "code",
   "execution_count": 36,
   "metadata": {
    "collapsed": false
   },
   "outputs": [
    {
     "data": {
      "text/plain": [
       "ModeResult(mode=array([39]), count=array([13]))"
      ]
     },
     "execution_count": 36,
     "metadata": {},
     "output_type": "execute_result"
    }
   ],
   "source": [
    "from scipy import stats\n",
    "stats.mode(ages)"
   ]
  },
  {
   "cell_type": "code",
   "execution_count": null,
   "metadata": {
    "collapsed": false
   },
   "outputs": [],
   "source": []
  }
 ],
 "metadata": {
  "kernelspec": {
   "display_name": "Python 3",
   "language": "python",
   "name": "python3"
  },
  "language_info": {
   "codemirror_mode": {
    "name": "ipython",
    "version": 3
   },
   "file_extension": ".py",
   "mimetype": "text/x-python",
   "name": "python",
   "nbconvert_exporter": "python",
   "pygments_lexer": "ipython3",
   "version": "3.5.1"
  }
 },
 "nbformat": 4,
 "nbformat_minor": 0
}
