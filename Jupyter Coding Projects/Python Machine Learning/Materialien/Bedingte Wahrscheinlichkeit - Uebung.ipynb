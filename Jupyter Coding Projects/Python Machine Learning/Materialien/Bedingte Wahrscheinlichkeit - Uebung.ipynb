{
 "cells": [
  {
   "cell_type": "markdown",
   "metadata": {},
   "source": [
    "# Bedingte Wahrscheinlichkeit (inkl. Übung)"
   ]
  },
  {
   "cell_type": "markdown",
   "metadata": {},
   "source": [
    "Zuerst erstellen wir ein paar Zufallsdaten über die Anzahl der Einkäufe in einem Online-Shop für Personen in Abhängigkeit zum Alter. \n",
    "\n",
    "Der Code generiert 100.000 zufällige \"Personen\" und sortiert jede dieser Personen in die Alterskategorie 20-er, 30-er, 40-er, 50-er, 60-er oder 70-er ein.\n",
    "\n",
    "Je geringer das Alter, desto geringer ist die Wahrscheinlichkeit, dass diese Person im Online-Shop einkauft. \n",
    "\n",
    "Anschließend wurden zwei Python dictionaries erstellt:\n",
    "\n",
    "- \"totals\": Enthält die Anzahl an Personen pro Altersgruppe\n",
    "- \"purchases\": Enthält die Anzahl der Einkäufe pro Altersgruppe\n",
    "\n",
    "Die gesamten Ausgaben über alle Altersgruppen ist in \"totalPurchases\" gespeichert. Die gesamte Anzahl aller Personen ist festgesetzt auf 100.000. "
   ]
  },
  {
   "cell_type": "code",
   "execution_count": 33,
   "metadata": {
    "collapsed": false
   },
   "outputs": [],
   "source": [
    "from numpy import random\n",
    "random.seed(0)\n",
    "\n",
    "totals = {20:0, 30:0, 40:0, 50:0, 60:0, 70:0}\n",
    "purchases = {20:0, 30:0, 40:0, 50:0, 60:0, 70:0}\n",
    "totalPurchases = 0\n",
    "for _ in range(100000):\n",
    "    ageDecade = random.choice([20, 30, 40, 50, 60, 70])\n",
    "    purchaseProbability = float(ageDecade) / 100.0\n",
    "    totals[ageDecade] += 1\n",
    "    if (random.random() < purchaseProbability):\n",
    "        totalPurchases += 1\n",
    "        purchases[ageDecade] += 1"
   ]
  },
  {
   "cell_type": "code",
   "execution_count": 34,
   "metadata": {
    "collapsed": false
   },
   "outputs": [
    {
     "data": {
      "text/plain": [
       "{20: 16576, 30: 16619, 40: 16632, 50: 16805, 60: 16664, 70: 16704}"
      ]
     },
     "execution_count": 34,
     "metadata": {},
     "output_type": "execute_result"
    }
   ],
   "source": [
    "totals"
   ]
  },
  {
   "cell_type": "code",
   "execution_count": 24,
   "metadata": {
    "collapsed": false
   },
   "outputs": [
    {
     "data": {
      "text/plain": [
       "{20: 3392, 30: 4974, 40: 6670, 50: 8319, 60: 9944, 70: 11713}"
      ]
     },
     "execution_count": 24,
     "metadata": {},
     "output_type": "execute_result"
    }
   ],
   "source": [
    "purchases"
   ]
  },
  {
   "cell_type": "code",
   "execution_count": 25,
   "metadata": {
    "collapsed": false
   },
   "outputs": [
    {
     "data": {
      "text/plain": [
       "45012"
      ]
     },
     "execution_count": 25,
     "metadata": {},
     "output_type": "execute_result"
    }
   ],
   "source": [
    "totalPurchases"
   ]
  },
  {
   "cell_type": "markdown",
   "metadata": {},
   "source": [
    "Berechnen der bedingten Wahrscheinlichkeit.\n",
    "\n",
    "Berechne P(E|F), E entspricht hierbei dem Einkauf, und F bedeutet, dass die Person in ihren 30-ern ist. Die Wahrscheinlichkeit dass eine einzelne Person in ihren 30-ern etwas kauft entspricht dem Prozentsatz aller Personen in den 30-ern, die etwas gekauft haben:"
   ]
  },
  {
   "cell_type": "code",
   "execution_count": 26,
   "metadata": {
    "collapsed": false
   },
   "outputs": [
    {
     "name": "stdout",
     "output_type": "stream",
     "text": [
      "P(purchase | 30s): 0.29929598652145134\n"
     ]
    }
   ],
   "source": [
    "PEF = purchases[30] / totals[30]\n",
    "print(\"P(purchase | 30s): \" + str(PEF))"
   ]
  },
  {
   "cell_type": "markdown",
   "metadata": {},
   "source": [
    "P(F) ist die Wahrscheinlichkeit, dass jemand in unserem Datensatz in den 30-ern ist:"
   ]
  },
  {
   "cell_type": "code",
   "execution_count": 27,
   "metadata": {
    "collapsed": false
   },
   "outputs": [
    {
     "name": "stdout",
     "output_type": "stream",
     "text": [
      "P(30's): 0.16619\n"
     ]
    }
   ],
   "source": [
    "PF = totals[30] / 100000.0\n",
    "print(\"P(30's): \" + str(PF))"
   ]
  },
  {
   "cell_type": "markdown",
   "metadata": {},
   "source": [
    "Und P(E) ist die Wahrscheinlichkeit, dass jemand bei uns etwas kauft, unabhängig vom Alter:"
   ]
  },
  {
   "cell_type": "code",
   "execution_count": 28,
   "metadata": {
    "collapsed": false
   },
   "outputs": [
    {
     "name": "stdout",
     "output_type": "stream",
     "text": [
      "P(Purchase):0.45012\n"
     ]
    }
   ],
   "source": [
    "PE = totalPurchases / 100000.0\n",
    "print(\"P(Purchase):\" + str(PE))"
   ]
  },
  {
   "cell_type": "markdown",
   "metadata": {},
   "source": [
    "Wenn E und F voneinander unabhängig sind, dann würden wir erwarten, dass P(E | F) das Gleiche ist wie P(E). Das ist aber nicht der Fall, P(E) ist 0,45 und P(E | F) ist 0,3. Das bedeutet, dass E und F voneinander abhängig sind (ist in diesem Beispiel klar, weil wir die Zufallsdaten entsprechend generiert haben).\n",
    "\n",
    "Was ist P(E)P(F)?\n"
   ]
  },
  {
   "cell_type": "code",
   "execution_count": 29,
   "metadata": {
    "collapsed": false
   },
   "outputs": [
    {
     "name": "stdout",
     "output_type": "stream",
     "text": [
      "P(30's)P(Purchase)0.07480544280000001\n"
     ]
    }
   ],
   "source": [
    "print(\"P(30's)P(Purchase)\" + str(PE * PF))"
   ]
  },
  {
   "cell_type": "markdown",
   "metadata": {},
   "source": [
    "________\n",
    "\n",
    "P(E ∩ F) beschreibt etwas anderes als P(E|F). P(E ∩ F) ist die Wahrscheinlichkeit, dass beides auftritt: Eine Person ist in ihren 30-ern, und kauft etwas bei uns ein. Diese Wahrscheinlichkeit bezieht sich also auf die Gesamtbevölkerung, nicht nur die Anzahl an Personen in den 30-ern: "
   ]
  },
  {
   "cell_type": "code",
   "execution_count": 30,
   "metadata": {
    "collapsed": false
   },
   "outputs": [
    {
     "name": "stdout",
     "output_type": "stream",
     "text": [
      "P(30's ∩ Purchase)0.04974\n"
     ]
    }
   ],
   "source": [
    "print(\"P(30's ∩ Purchase)\" + str(float(purchases[30]) / 100000.0))"
   ]
  },
  {
   "cell_type": "markdown",
   "metadata": {},
   "source": [
    "P(E ∩ F) ist nicht das gleiche wie P(E)P(F), da E und F voneinander abhängig sind! \n",
    "\n",
    "Man kann jetzt auch überprüfen, dass P(E|F) = P(E ∩ F)/P(F) ist. Das ist der Fall:"
   ]
  },
  {
   "cell_type": "code",
   "execution_count": 35,
   "metadata": {
    "collapsed": false
   },
   "outputs": [
    {
     "name": "stdout",
     "output_type": "stream",
     "text": [
      "0.29929598652145134\n"
     ]
    }
   ],
   "source": [
    "print((purchases[30] / 100000.0) / PF)"
   ]
  },
  {
   "cell_type": "markdown",
   "metadata": {},
   "source": [
    "__________"
   ]
  },
  {
   "cell_type": "markdown",
   "metadata": {},
   "source": [
    "## Aufgabe"
   ]
  },
  {
   "cell_type": "markdown",
   "metadata": {},
   "source": [
    "Passe den Code so an, dass die Wahrscheinlichkeit eines Einkaufs nicht vom Alter abhängt. E und F sind dann unabhängig voneinander. \n",
    "\n",
    "Überprüfe dann, dass P(E|F) ungefähr genauso groß ist wie P(E). Zeige damit, dass die bedingte Wahrscheinlichkeit eines Einkaufes nicht vom Alter des Besuchers abhängig, also davon unabhängig ist."
   ]
  },
  {
   "cell_type": "code",
   "execution_count": null,
   "metadata": {
    "collapsed": false
   },
   "outputs": [],
   "source": []
  }
 ],
 "metadata": {
  "kernelspec": {
   "display_name": "Python 3",
   "language": "python",
   "name": "python3"
  },
  "language_info": {
   "codemirror_mode": {
    "name": "ipython",
    "version": 3
   },
   "file_extension": ".py",
   "mimetype": "text/x-python",
   "name": "python",
   "nbconvert_exporter": "python",
   "pygments_lexer": "ipython3",
   "version": "3.5.1"
  }
 },
 "nbformat": 4,
 "nbformat_minor": 0
}
