{
 "cells": [
  {
   "cell_type": "markdown",
   "metadata": {},
   "source": [
    "# Wie geht man mit Ausreißern um?"
   ]
  },
  {
   "cell_type": "markdown",
   "metadata": {},
   "source": [
    "Manchmal beeinflussen ein paar Ausreißer die gesamte Analyse, und man möchte nicht, dass ein paar wenige Datenpunkte das Endergebnis massiv beeinflussen. Schauen wir uns nochmal die Einkommensdaten an, und fügen Donald Trump hinzu: "
   ]
  },
  {
   "cell_type": "code",
   "execution_count": 1,
   "metadata": {
    "collapsed": false
   },
   "outputs": [
    {
     "data": {
      "image/png": "[encoded data removed]",
      "text/plain": [
       "<matplotlib.figure.Figure at 0x106610e48>"
      ]
     },
     "metadata": {},
     "output_type": "display_data"
    }
   ],
   "source": [
    "%matplotlib inline\n",
    "import numpy as np\n",
    "\n",
    "incomes = np.random.normal(27000, 15000, 10000)\n",
    "incomes = np.append(incomes, [1000000000])\n",
    "\n",
    "import matplotlib.pyplot as plt\n",
    "plt.hist(incomes, 50)\n",
    "plt.show()"
   ]
  },
  {
   "cell_type": "markdown",
   "metadata": {},
   "source": [
    "Das Diagramm nützt uns nicht viel. Ein Millardär verändert die gesmate Auswertung. Zudem ist der Mittelwert massiv beeinflusst: "
   ]
  },
  {
   "cell_type": "code",
   "execution_count": 3,
   "metadata": {
    "collapsed": false
   },
   "outputs": [
    {
     "data": {
      "text/plain": [
       "127004.42225607907"
      ]
     },
     "execution_count": 3,
     "metadata": {},
     "output_type": "execute_result"
    }
   ],
   "source": [
    "incomes.mean()"
   ]
  },
  {
   "cell_type": "markdown",
   "metadata": {},
   "source": [
    "Bevor man die Ausreißer einfach so entfernt, muss man zuerst versuchen, die Ursache zu finden. Wo kommt der Ausreißer her? Darf man diesen Ausreißer entfernen, ohne dass das das Endergebnis negativ beeinflusst? \n",
    "\n",
    "In diesem Beispiel möchte man herausfinden, was das Einkommen von normalen Personen ist. Hier dürfte man dann einen Ausreißer wie Donald Trump entfernen, schließlich soll ja nur der \"normale\" Einkommensbereich betrachtet werden. \n",
    "\n",
    "Statt einfach irgendein Limit zu setzen, kann man auch z.B. sagen, man entfernt alle Datensätze, die weiter als 2 Standardabweichungen vom Median entfernt sind: "
   ]
  },
  {
   "cell_type": "code",
   "execution_count": 4,
   "metadata": {
    "collapsed": false
   },
   "outputs": [
    {
     "data": {
      "image/png": "[encoded data removed]",
      "text/plain": [
       "<matplotlib.figure.Figure at 0x10f3dc518>"
      ]
     },
     "metadata": {},
     "output_type": "display_data"
    }
   ],
   "source": [
    "def reject_outliers(data):\n",
    "    u = np.median(data)\n",
    "    s = np.std(data)\n",
    "    filtered = [e for e in data if (u - 2 * s < e < u + 2 * s)]\n",
    "    return filtered\n",
    "\n",
    "filtered = reject_outliers(incomes)\n",
    "\n",
    "plt.hist(filtered, 50)\n",
    "plt.show()"
   ]
  },
  {
   "cell_type": "markdown",
   "metadata": {},
   "source": [
    "Das sieht schonmal sehr viel besser aus. Zudem trifft der Durchschnitt den Mittelpunkt der Normalverteilung sehr viel besser:"
   ]
  },
  {
   "cell_type": "code",
   "execution_count": 5,
   "metadata": {
    "collapsed": false
   },
   "outputs": [
    {
     "data": {
      "text/plain": [
       "27017.122698304687"
      ]
     },
     "execution_count": 5,
     "metadata": {},
     "output_type": "execute_result"
    }
   ],
   "source": [
    "np.mean(filtered)"
   ]
  },
  {
   "cell_type": "markdown",
   "metadata": {},
   "source": [
    "## Aufgabe"
   ]
  },
  {
   "cell_type": "markdown",
   "metadata": {},
   "source": [
    "In diese Beispiel haben wir nur einen Ausreißer zu den Daten hinzugefügt. \n",
    "\n",
    "Versuche, noch weitere, zufällig generierte Ausreißer zu den Daten hinzuzufügen. Beim Code, der die Ausreißer entfernt, probiere auf jeden Fall auch noch andere Werte, was passiert, wenn Daten schon ab 1 Standardabweichung aus dem Diagramm entfernt werden? Was passiert bei höheren Werten? "
   ]
  },
  {
   "cell_type": "code",
   "execution_count": null,
   "metadata": {
    "collapsed": false
   },
   "outputs": [],
   "source": []
  }
 ],
 "metadata": {
  "kernelspec": {
   "display_name": "Python 3",
   "language": "python",
   "name": "python3"
  },
  "language_info": {
   "codemirror_mode": {
    "name": "ipython",
    "version": 3
   },
   "file_extension": ".py",
   "mimetype": "text/x-python",
   "name": "python",
   "nbconvert_exporter": "python",
   "pygments_lexer": "ipython3",
   "version": "3.6.0"
  }
 },
 "nbformat": 4,
 "nbformat_minor": 0
}
